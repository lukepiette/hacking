{
 "cells": [
  {
   "cell_type": "code",
   "execution_count": null,
   "metadata": {},
   "outputs": [],
   "source": [
    "# https://www.youtube.com/watch?v=wXB-V_Keiu8&list=LLgVdDJJ5X2O_Ka8tNf8UY0Q&index=10&t=0s"
   ]
  },
  {
   "cell_type": "code",
   "execution_count": 328,
   "metadata": {},
   "outputs": [],
   "source": [
    "import random\n",
    "import math"
   ]
  },
  {
   "cell_type": "code",
   "execution_count": 703,
   "metadata": {},
   "outputs": [],
   "source": [
    "def is_prime(n):\n",
    "    if n == 2 or n == 3: return True\n",
    "    if n < 2 or n%2 == 0: return False\n",
    "    if n < 9: return True\n",
    "    if n%3 == 0: return False\n",
    "    r = int(n**0.5)\n",
    "    f = 5\n",
    "    while f <= r:\n",
    "        if n % f == 0: return False\n",
    "        if n % (f+2) == 0: return False\n",
    "        f += 6\n",
    "    return True    "
   ]
  },
  {
   "cell_type": "code",
   "execution_count": 705,
   "metadata": {},
   "outputs": [
    {
     "data": {
      "text/plain": [
       "True"
      ]
     },
     "execution_count": 705,
     "metadata": {},
     "output_type": "execute_result"
    }
   ],
   "source": [
    "is_prime(1300020299292229)"
   ]
  },
  {
   "cell_type": "code",
   "execution_count": null,
   "metadata": {},
   "outputs": [],
   "source": []
  },
  {
   "cell_type": "code",
   "execution_count": 725,
   "metadata": {},
   "outputs": [],
   "source": [
    "class RSA(object):\n",
    "    \n",
    "    def __init__(self):\n",
    "        self.Srang = 10**5\n",
    "        self.Brang = 10**5+100\n",
    "        self.p1 = None\n",
    "        self.p2 = None\n",
    "        self.public = None\n",
    "        self.PHI = None\n",
    "        self.e = None\n",
    "        self.k = None\n",
    "        self.d = None\n",
    "        self.primes = None\n",
    "        \n",
    "\n",
    "    def isPrime(self,n):\n",
    "        if n == 2 or n == 3: return True\n",
    "        if n < 2 or n%2 == 0: return False\n",
    "        if n < 9: return True\n",
    "        if n%3 == 0: return False\n",
    "        r = int(n**0.5)\n",
    "        f = 5\n",
    "        while f <= r:\n",
    "            if n % f == 0: return False\n",
    "            if n % (f+2) == 0: return False\n",
    "            f += 6\n",
    "        return True    \n",
    "\n",
    "        \n",
    "    def genPrimeList(self):\n",
    "        primes = []\n",
    "        for i in range(self.Srang,self.Brang):\n",
    "            if self.isPrime(i) == True:\n",
    "                primes += [i]\n",
    "        self.primes = primes\n",
    "        return primes\n",
    "        \n",
    "        \n",
    "    def genPrimeNums(self,num):\n",
    "        out = []\n",
    "        primes = self.genPrimeList()\n",
    "        for i in range(num):\n",
    "            rand = random.randint(0,len(primes)-1)\n",
    "            out += [primes[rand]]\n",
    "            primes.pop(rand)\n",
    "        return out\n",
    "\n",
    "    \n",
    "    def genE(self,PHI):\n",
    "        out = 0\n",
    "        primes = self.genPrimeList()\n",
    "        for i in range(len(primes)):\n",
    "            ans = PHI / primes[i]\n",
    "            if int(ans)*1.0 != ans:\n",
    "                out = primes[i]\n",
    "                break\n",
    "        return out\n",
    "    \n",
    "    \n",
    "    def genK(self,PHI,e):\n",
    "        for i in range(2,20):\n",
    "            d = (PHI*i+1)/e\n",
    "            if int(d)*1.0 == d:\n",
    "                break\n",
    "        return i\n",
    "    \n",
    "    \n",
    "    def genD(self,PHI,e,k):\n",
    "        return int((k*PHI+1)/e)\n",
    "        \n",
    "    \n",
    "    def genPrivates(self):\n",
    "        self.genPrimeList()\n",
    "        self.p1,self.p2 = self.genPrimeNums(2)\n",
    "        self.public = self.p1*self.p2\n",
    "        self.PHI = (self.p1-1)*(self.p2-1)\n",
    "        self.e = self.genE(self.PHI)\n",
    "        self.k = self.genK(self.PHI,self.e)\n",
    "        self.d = self.genD(self.PHI,self.e,self.k)\n",
    "        \n",
    "        \n",
    "        \n",
    "    def strToBin(self,string):\n",
    "        binFinal = ''\n",
    "        for i in string:\n",
    "            binary = bin(ord(i))[2:]\n",
    "            binFinal += '0'*(8-len(binary)) + binary\n",
    "        print(binFinal)\n",
    "        return binFinal\n",
    "    \n",
    "    def binToStr(self,binary):\n",
    "        strFinal = ''\n",
    "        binary = (len(binary)%8)*'0'+binary\n",
    "        for i in range(len(binary)//8):\n",
    "            strFinal += chr(int(binary[i*8:(i+1)*8],2))\n",
    "        return strFinal\n",
    "    \n",
    "    def binToNum(self,binary):\n",
    "        return int(binary,2)\n",
    "    \n",
    "    def numToBin(self,num):\n",
    "        return '0'*(8-len(bin(num)[2:]))+bin(num)[2:]\n",
    "    \n",
    "    \n",
    "    \n",
    "    \n",
    "    def encrypt(self,m):\n",
    "        self.genPrivates()\n",
    "        msg = m\n",
    "        if type(m) == str:\n",
    "            msg = self.binToNum(self.strToBin(m))\n",
    "            print(msg)\n",
    "        code = msg**self.e%self.public\n",
    "        print(code)\n",
    "        return code\n",
    "        \n",
    "    def decrypt(self,code,string=True):\n",
    "        msg = code**self.d%self.public\n",
    "        if string == True:\n",
    "            msg = self.binToStr(self.numToBin(msg))\n",
    "        return msg\n",
    "    \n",
    "    \n",
    "    def run(self,num):\n",
    "        self.genPrivates()\n",
    "        \n",
    "        which = False\n",
    "        if type(num) == str:\n",
    "            which = True\n",
    "            \n",
    "        print('Num sent: ',num)\n",
    "        code = self.encrypt(num)\n",
    "        print('Code: ',code)\n",
    "        print('Decrypted: ',self.decrypt(code,string=which))\n",
    "\n",
    "        \n",
    "        print('\\n\\nParams:\\n',self.p1,self.p2,self.public,self.PHI,self.e,self.k,self.d)\n",
    "        \n",
    "        "
   ]
  },
  {
   "cell_type": "code",
   "execution_count": 726,
   "metadata": {},
   "outputs": [
    {
     "name": "stdout",
     "output_type": "stream",
     "text": [
      "Num sent:  44\n",
      "1340654316\n",
      "Code:  1340654316\n",
      "Decrypted:  4699934791\n",
      "\n",
      "\n",
      "Params:\n",
      " 100019 100049 10006800931 10006600864 100003 19 1901197\n"
     ]
    }
   ],
   "source": [
    "RSA().run(44)"
   ]
  },
  {
   "cell_type": "code",
   "execution_count": 650,
   "metadata": {},
   "outputs": [],
   "source": [
    "p1 = 19\n",
    "p2 = 11\n",
    "public = 209\n",
    "PHI = 180\n",
    "e = 7\n",
    "k = 4\n",
    "d = 103\n",
    "m = 200"
   ]
  },
  {
   "cell_type": "code",
   "execution_count": 651,
   "metadata": {},
   "outputs": [
    {
     "name": "stdout",
     "output_type": "stream",
     "text": [
      "205 200\n"
     ]
    }
   ],
   "source": [
    "c = m**e%public\n",
    "m = c**d%public\n",
    "\n",
    "print(c,m)"
   ]
  },
  {
   "cell_type": "code",
   "execution_count": 472,
   "metadata": {},
   "outputs": [],
   "source": [
    "def cleanBin(s): \n",
    "    string = \"\"\n",
    "    tip = len(s)%8\n",
    "    s = s[tip:]+s[0:tip]\n",
    "    return s\n",
    "\n",
    "def binToStr(binary):\n",
    "    strFinal = ''\n",
    "    binary = cleanBin(binary)\n",
    "    print(binary)\n",
    "    for i in range(math.ceil(len(binary)/8)):\n",
    "        strFinal += chr(int(binary[i*8:(i+1)*8],2))\n",
    "    print(strFinal)\n",
    "    return strFinal"
   ]
  }
 ],
 "metadata": {
  "kernelspec": {
   "display_name": "Python 3",
   "language": "python",
   "name": "python3"
  },
  "language_info": {
   "codemirror_mode": {
    "name": "ipython",
    "version": 3
   },
   "file_extension": ".py",
   "mimetype": "text/x-python",
   "name": "python",
   "nbconvert_exporter": "python",
   "pygments_lexer": "ipython3",
   "version": "3.7.3"
  }
 },
 "nbformat": 4,
 "nbformat_minor": 2
}
